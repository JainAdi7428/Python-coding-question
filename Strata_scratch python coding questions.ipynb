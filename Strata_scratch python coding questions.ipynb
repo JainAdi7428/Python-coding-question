{
 "cells": [
  {
   "cell_type": "code",
   "execution_count": 19,
   "id": "e330bf33",
   "metadata": {},
   "outputs": [
    {
     "name": "stdout",
     "output_type": "stream",
     "text": [
      "1000000\n",
      "500\n"
     ]
    }
   ],
   "source": [
    "import sys\n",
    "def find_largest_number(arr):\n",
    "    \"\"\" \n",
    "    :type arr: List[int] \n",
    "    :rtype: int \n",
    "    \"\"\"\n",
    "    k = float('-inf')\n",
    "    s= float('-inf')\n",
    "    \n",
    "    for i in arr:\n",
    "        if i > k :\n",
    "            k=i\n",
    "    print(k)\n",
    "    \n",
    "    for j in arr:\n",
    "        if j == k :\n",
    "            pass\n",
    "        elif s <j:\n",
    "            s=j \n",
    "    print(s)\n",
    "\n",
    "find_largest_number([1000000, -1000000, 0, 2, -100, 500])"
   ]
  },
  {
   "cell_type": "code",
   "execution_count": 23,
   "id": "781b53d7",
   "metadata": {},
   "outputs": [
    {
     "name": "stdout",
     "output_type": "stream",
     "text": [
      "10 -inf 10\n",
      "20 10 20\n",
      "99 20 99\n",
      "45\n"
     ]
    }
   ],
   "source": [
    "a = [10, 20, 4,99, 45]\n",
    "\n",
    "# Initialize largest (max1)\n",
    "# and second largest (max2) to negative infinity\n",
    "max1 = max2 = float('-inf')\n",
    "\n",
    "# Loop through each number in list\n",
    "for n in a:\n",
    "  \n",
    "    # If the current number is greater \n",
    "    # than largest found so far\n",
    "    if n > max1:\n",
    "      \n",
    "        # Update second largest to the previous largest\n",
    "        max2 = max1  \n",
    "        \n",
    "        # Update largest to the current number\n",
    "        max1 = n     \n",
    "        \n",
    "    # If current number is less than largest\n",
    "    # but greater than second largest\n",
    "        print(max1,max2,n)\n",
    "    elif n > max2 and n != max1:\n",
    "      \n",
    "        # Update second largest to current number\n",
    "        max2 = n  \n",
    "\n",
    "print(max2)"
   ]
  },
  {
   "cell_type": "code",
   "execution_count": 26,
   "id": "d5842d86",
   "metadata": {},
   "outputs": [
    {
     "name": "stdout",
     "output_type": "stream",
     "text": [
      "1000000 500\n"
     ]
    }
   ],
   "source": [
    "def second_largest_number(arr):\n",
    "    max1 = max2 = float('-inf')\n",
    "    \n",
    "    for i in arr:\n",
    "        if max1 < i :\n",
    "            max2=max1\n",
    "            max1 = i\n",
    "            \n",
    "        elif i > max2 and i < max1:\n",
    "            max2=i\n",
    "    print(max1,max2)\n",
    "            \n",
    "second_largest_number([1000000, -1000000, 0, 2, -100, 500])"
   ]
  },
  {
   "cell_type": "code",
   "execution_count": 51,
   "id": "87e3d468",
   "metadata": {},
   "outputs": [
    {
     "data": {
      "text/plain": [
       "[['b'], ['b'], ['c'], ['c'], ['c']]"
      ]
     },
     "execution_count": 51,
     "metadata": {},
     "output_type": "execute_result"
    }
   ],
   "source": [
    "import os\n",
    "\n",
    "def urandom_uniform():\n",
    "    return (int.from_bytes(os.urandom(7), 'big') >> 3) * 1.0 / ((1 << 53) - 1)\n",
    "\n",
    "def calculate_cdf(weights):\n",
    "    sum_weights = sum(weights)\n",
    "    cdf_values = []\n",
    "    cumulative_sum = 0\n",
    "    for weight in weights:\n",
    "        cumulative_sum += weight\n",
    "        cdf_values.append(cumulative_sum / sum_weights)\n",
    "    return cdf_values\n",
    "\n",
    "def find_index(cdf_values, value):\n",
    "    for i, cdf_value in enumerate(cdf_values):\n",
    "        if value < cdf_value:\n",
    "            return i\n",
    "    return len(cdf_values) - 1\n",
    "\n",
    "def sample_multimodal(input):\n",
    "    \"\"\"\n",
    "    :type input: Dict\n",
    "    :rtype: List[Any]\n",
    "    \"\"\"\n",
    "    n = input[\"n\"]\n",
    "    keys = input[\"keys\"]\n",
    "    weights = input[\"weights\"]\n",
    "    \n",
    "    updated_weights = [w*n for w in weights]\n",
    "    weights_dict = {}\n",
    "    for i,x in enumerate(keys):\n",
    "        weights_dict.update({x:updated_weights[i]})\n",
    "    m=0\n",
    "    output = []  \n",
    "    for key,value in weights_dict.items():\n",
    "        for i in range(round(value)):\n",
    "            if m >= n :\n",
    "                break\n",
    "            output.append([key])\n",
    "            m+=1\n",
    "        \n",
    "    return output\n",
    "                             \n",
    "                             \n",
    "sample_multimodal({\"n\": 5, \"keys\": [\"a\", \"b\", \"c\"], \"weights\": [0.1, 0.3, 0.6]})"
   ]
  },
  {
   "cell_type": "code",
   "execution_count": 100,
   "id": "01886218",
   "metadata": {},
   "outputs": [
    {
     "name": "stdout",
     "output_type": "stream",
     "text": [
      "[0, 0, 0, 0, 0, 0, 0, 0, 1, 1, 0, 0, 0, 0, 0]\n",
      "[0, 0, 0, 0, 1, 0, 0, 1]\n",
      "[1, 1, 1, 1, 1, 1, 1, 1, 1, 1, 1, 1]\n"
     ]
    }
   ],
   "source": [
    "from random import shuffle\n",
    "\n",
    "\n",
    "def biased_coin_flip(input):\n",
    "    p = input[\"probability\"]\n",
    "    N = input[\"N\"]\n",
    "    #LETS consider head =1 and tail = 2\n",
    "    l =[1 for i in range(round(N*p))] + [0 for i in range (N-(round(N*p)))]\n",
    "    random.shuffle(l)\n",
    "    return l\n",
    "    \n",
    "print(biased_coin_flip( {\"N\": 15, \"probability\": 0.1}))\n",
    "print(biased_coin_flip( {\"N\": 8, \"probability\": 0.2}))\n",
    "print(biased_coin_flip({\"N\": 12, \"probability\": 1}))"
   ]
  },
  {
   "cell_type": "code",
   "execution_count": 88,
   "id": "d0a5c913",
   "metadata": {},
   "outputs": [
    {
     "name": "stdout",
     "output_type": "stream",
     "text": [
      "['apple', 'cherry', 'banana', 'date']\n",
      "None\n"
     ]
    }
   ],
   "source": [
    "l = ['apple', 'banana', 'cherry', 'date']\n",
    "\n",
    "l_shuffled = random.sample(l, len(l))\n",
    "print(l_shuffled)\n",
    "# ['cherry', 'banana', 'apple', 'date']\n",
    "\n",
    "print(random.shuffle(l))"
   ]
  },
  {
   "cell_type": "code",
   "execution_count": 96,
   "id": "9c213fa1",
   "metadata": {},
   "outputs": [
    {
     "ename": "TypeError",
     "evalue": "'int' object is not subscriptable",
     "output_type": "error",
     "traceback": [
      "\u001b[1;31m---------------------------------------------------------------------------\u001b[0m",
      "\u001b[1;31mTypeError\u001b[0m                                 Traceback (most recent call last)",
      "Input \u001b[1;32mIn [96]\u001b[0m, in \u001b[0;36m<cell line: 15>\u001b[1;34m()\u001b[0m\n\u001b[0;32m     12\u001b[0m     result[flip_bias_res] \u001b[38;5;241m+\u001b[39m\u001b[38;5;241m=\u001b[39m \u001b[38;5;241m1\u001b[39m\n\u001b[0;32m     14\u001b[0m   \u001b[38;5;28;01mreturn\u001b[39;00m result\n\u001b[1;32m---> 15\u001b[0m \u001b[43msimulate_flips\u001b[49m\u001b[43m(\u001b[49m\u001b[38;5;241;43m15\u001b[39;49m\u001b[43m,\u001b[49m\u001b[38;5;241;43m1\u001b[39;49m\u001b[43m)\u001b[49m\n",
      "Input \u001b[1;32mIn [96]\u001b[0m, in \u001b[0;36msimulate_flips\u001b[1;34m(number_of_flip, bias)\u001b[0m\n\u001b[0;32m      4\u001b[0m result\u001b[38;5;241m=\u001b[39m{\n\u001b[0;32m      5\u001b[0m     \u001b[38;5;124m\"\u001b[39m\u001b[38;5;124mHeads\u001b[39m\u001b[38;5;124m\"\u001b[39m:\u001b[38;5;241m0\u001b[39m,\n\u001b[0;32m      6\u001b[0m   \u001b[38;5;124m\"\u001b[39m\u001b[38;5;124mTails\u001b[39m\u001b[38;5;124m\"\u001b[39m:\u001b[38;5;241m0\u001b[39m\n\u001b[0;32m      7\u001b[0m }\n\u001b[0;32m     10\u001b[0m \u001b[38;5;28;01mfor\u001b[39;00m _ \u001b[38;5;129;01min\u001b[39;00m \u001b[38;5;28mrange\u001b[39m(number_of_flip):\n\u001b[1;32m---> 11\u001b[0m   flip_bias_res\u001b[38;5;241m=\u001b[39m\u001b[43mbiased_coin_flip\u001b[49m\u001b[43m(\u001b[49m\u001b[43mbias\u001b[49m\u001b[43m)\u001b[49m\n\u001b[0;32m     12\u001b[0m   result[flip_bias_res] \u001b[38;5;241m+\u001b[39m\u001b[38;5;241m=\u001b[39m \u001b[38;5;241m1\u001b[39m\n\u001b[0;32m     14\u001b[0m \u001b[38;5;28;01mreturn\u001b[39;00m result\n",
      "Input \u001b[1;32mIn [94]\u001b[0m, in \u001b[0;36mbiased_coin_flip\u001b[1;34m(input)\u001b[0m\n\u001b[0;32m      5\u001b[0m \u001b[38;5;28;01mdef\u001b[39;00m \u001b[38;5;21mbiased_coin_flip\u001b[39m(\u001b[38;5;28minput\u001b[39m):\n\u001b[1;32m----> 6\u001b[0m     p \u001b[38;5;241m=\u001b[39m \u001b[38;5;28;43minput\u001b[39;49m\u001b[43m[\u001b[49m\u001b[38;5;124;43m\"\u001b[39;49m\u001b[38;5;124;43mprobability\u001b[39;49m\u001b[38;5;124;43m\"\u001b[39;49m\u001b[43m]\u001b[49m\n\u001b[0;32m      7\u001b[0m     N \u001b[38;5;241m=\u001b[39m \u001b[38;5;28minput\u001b[39m[\u001b[38;5;124m\"\u001b[39m\u001b[38;5;124mN\u001b[39m\u001b[38;5;124m\"\u001b[39m]\n\u001b[0;32m      8\u001b[0m     \u001b[38;5;66;03m#LETS consider head =1 and tail = 2\u001b[39;00m\n",
      "\u001b[1;31mTypeError\u001b[0m: 'int' object is not subscriptable"
     ]
    }
   ],
   "source": [
    "def simulate_flips(number_of_flip,bias):\n",
    "    #dict: A dictionary with counts of 'Heads' and 'Tails'.\n",
    "\n",
    "  result={\n",
    "      \"Heads\":0,\n",
    "    \"Tails\":0\n",
    "  }\n",
    "  \n",
    "  \n",
    "  for _ in range(number_of_flip):\n",
    "    flip_bias_res=biased_coin_flip(bias)\n",
    "    result[flip_bias_res] += 1\n",
    "    \n",
    "  return result\n",
    "simulate_flips(15,1)"
   ]
  },
  {
   "cell_type": "code",
   "execution_count": 105,
   "id": "84a3a140",
   "metadata": {},
   "outputs": [
    {
     "name": "stdout",
     "output_type": "stream",
     "text": [
      "[0, 1, 0, 0, 0, 0, 0, 0, 0, 0, 0, 0, 1, 0, 0]\n",
      "[0, 0, 0, 0, 1, 0, 0, 0]\n",
      "[1, 1, 1, 1, 1, 1, 1, 1, 1, 1, 1, 1]\n"
     ]
    }
   ],
   "source": [
    "import random\n",
    "\n",
    "\n",
    "def biased_coin_flip(input):\n",
    "    p = input[\"probability\"]\n",
    "    N = input[\"N\"]\n",
    "    #LETS consider head =1 and tail = 2\n",
    "    result = []\n",
    "    for i in range (N):\n",
    "        \n",
    "        if random.random() < p:\n",
    "            result.append(1)\n",
    "        else:\n",
    "            result.append(0)\n",
    "    return result\n",
    "        \n",
    "        \n",
    "print(biased_coin_flip( {\"N\": 15, \"probability\": 0.1}))\n",
    "print(biased_coin_flip( {\"N\": 8, \"probability\": 0.2}))\n",
    "print(biased_coin_flip({\"N\": 12, \"probability\": 1}))  "
   ]
  },
  {
   "cell_type": "code",
   "execution_count": 151,
   "id": "d61163e5",
   "metadata": {},
   "outputs": [
    {
     "name": "stdout",
     "output_type": "stream",
     "text": [
      "Counter({3: 22, 6: 19, 1: 16, 5: 15, 2: 14, 4: 14})\n"
     ]
    }
   ],
   "source": [
    "import random\n",
    "\n",
    "\n",
    "def die_side(input):\n",
    "    sides = input[\"sides\"]\n",
    "    probs = input[\"probs\"]\n",
    "    rolls = input[\"rolls\"]\n",
    "    new_prob = [n/sum(probs) for n in probs]\n",
    "    k=0\n",
    "    np=[]\n",
    "    for i in range(len(new_prob)):\n",
    "        k=k+new_prob[i]\n",
    "        np.append(k)\n",
    "    output=[]\n",
    "    for i in range(rolls):\n",
    "        x= random.random()\n",
    "        for j in range(len(sides)):\n",
    "            if x < np[j]:\n",
    "                output.append(sides[j])\n",
    "                break\n",
    "            \n",
    "\n",
    "    return output\n",
    "\n",
    "    \n",
    "check =die_side({\"probs\": [2, 2, 2, 1, 1, 2], \"rolls\": 100, \"sides\": [1, 2, 3, 4, 5, 6]})\n",
    "\n",
    "from collections import Counter\n",
    "count = Counter(check)\n",
    "print(count)"
   ]
  },
  {
   "cell_type": "code",
   "execution_count": 168,
   "id": "fc6c5d80",
   "metadata": {},
   "outputs": [
    {
     "name": "stdout",
     "output_type": "stream",
     "text": [
      "[[10, -10, 5, 5, 5], [5, 5, 5], [5, 10]]\n"
     ]
    }
   ],
   "source": [
    "def find_intervals(input):\n",
    "    \"\"\"\n",
    "    :type input: Dict[str, Any]\n",
    "    :rtype: List[List[int]]\n",
    "    \"\"\"\n",
    "    nums = input[\"nums\"]\n",
    "    target_sum = input[\"target_sum\"]\n",
    "    n = input[\"n\"]\n",
    "    \n",
    "    \n",
    "    output=[]\n",
    "    for i in range(len(nums)):\n",
    "        list1=[]\n",
    "        for j in range(i, len(nums)):\n",
    "            list1.append(nums[j])\n",
    "#             print(list1)\n",
    "            if sum(list1)==target_sum:\n",
    "                output.append(list1)\n",
    "                break\n",
    "            else:\n",
    "                continue\n",
    "    return [o for i,o in enumerate(output) if o not in output[:i]]\n",
    "\n",
    "\n",
    "                \n",
    "print(find_intervals({\"n\": 2, \"nums\": [10, 20, 10, -10, 5, 5, 5, 5, 10], \"target_sum\": 15}))\n",
    "                \n",
    "            \n",
    "\n"
   ]
  },
  {
   "cell_type": "code",
   "execution_count": 179,
   "id": "8b0c35d1",
   "metadata": {},
   "outputs": [
    {
     "name": "stdout",
     "output_type": "stream",
     "text": [
      "True\n"
     ]
    }
   ],
   "source": [
    "def reverse_string(string):\n",
    "    \"\"\" \n",
    "    :type string: str\n",
    "    :rtype: str\n",
    "    \"\"\"\n",
    "    str_list =[s for s in string ]\n",
    "    i=1\n",
    "    new_str = []\n",
    "    while True:\n",
    "        new_str.append(str_list[-i]) \n",
    "        if i==len(str_list):\n",
    "            break\n",
    "        i+=1\n",
    "    return \"\".join(new_str)\n",
    "    \n",
    "        \n",
    "    \n",
    "s= \"Palindrome123454321emordnilaP\"      \n",
    "if s[::-1 ]== reverse_string (s):\n",
    "    print(True)"
   ]
  },
  {
   "cell_type": "code",
   "execution_count": 193,
   "id": "7e0e5456",
   "metadata": {},
   "outputs": [
    {
     "name": "stdout",
     "output_type": "stream",
     "text": [
      "9\n",
      "[[3, -2, -1], [3, 1, -4], [0, -2, 2], [0, 1, -1]]\n"
     ]
    }
   ],
   "source": [
    "def find_triplets(nums):\n",
    "    \"\"\" \n",
    "    :type nums: List[int]\n",
    "    :rtype: List[List[int]]\n",
    "    \"\"\"\n",
    "    l=[]\n",
    "    print(len(nums))\n",
    "    for i in range(len(nums)):\n",
    "        for j in range (i,len(nums)):\n",
    "            for k in range(j,len(nums)):\n",
    "                if nums[i]!=nums[j] and nums[j] !=nums[k]  and nums[k] != nums[i] and nums[i] +nums[j] +nums[k] ==0:\n",
    "                    \n",
    "                    l.append([nums[i],nums[j] ,nums[k]])\n",
    "    print([arr for i,arr in enumerate(l) if arr not in l[:i]])\n",
    "\n",
    "\n",
    "num = [3, 0, -2, 1, 1, 2, -1, -4, 2]\n",
    "find_triplets(num)"
   ]
  },
  {
   "cell_type": "code",
   "execution_count": 189,
   "id": "7849316e",
   "metadata": {},
   "outputs": [
    {
     "name": "stdout",
     "output_type": "stream",
     "text": [
      "0 1 2\n",
      "0 3 6\n",
      "1 4 5\n",
      "2 3 4\n",
      "2 5 6\n"
     ]
    }
   ],
   "source": [
    "def findTriplets(arr):\n",
    "    res = []\n",
    "    n = len(arr)\n",
    "\n",
    "    # Generating all triplets\n",
    "    for i in range(n - 2):\n",
    "        for j in range(i + 1, n - 1):\n",
    "            for k in range(j + 1, n):\n",
    "              \n",
    "                # If the sum of triplet equals to zero\n",
    "                # then add it's indexes to the result\n",
    "                if arr[i] + arr[j] + arr[k] == 0:\n",
    "                    res.append([i, j, k])\n",
    "    return res\n",
    "\n",
    "arr = [1, -1, 0, 2, -2, 3, -3]\n",
    "res = findTriplets(arr)\n",
    "for triplet in res:\n",
    "    print(triplet[0], triplet[1], triplet[2])"
   ]
  },
  {
   "cell_type": "code",
   "execution_count": 224,
   "id": "0d201ec3",
   "metadata": {},
   "outputs": [
    {
     "name": "stdout",
     "output_type": "stream",
     "text": [
      "3\n",
      "0\n",
      "20\n"
     ]
    }
   ],
   "source": [
    "def min_coins(input):\n",
    "    \"\"\"\n",
    "    :type input: Dict[str, Union[int, List[int]]]\n",
    "    :rtype: int\n",
    "    \"\"\"\n",
    "    \n",
    "\n",
    "    amount = input[\"amount\"]\n",
    "    coins = input[\"coins\"]\n",
    "    coins = sorted(coins,reverse=True)\n",
    "#     print(coins)\n",
    "    d= {}\n",
    "    for i in coins:\n",
    "        if amount < i:\n",
    "            pass\n",
    "        else :\n",
    "            d.update({i:int(amount/i)})\n",
    "            amount = amount % i \n",
    "            print(amount)\n",
    "    if amount == 0:\n",
    "        return sum([value for value in d.values()])\n",
    "    else:\n",
    "        return -1\n",
    "# print(min_coins({\"coins\": [2], \"amount\": 3}))\n",
    "# print(min_coins({\"coins\": [1, 2, 3], \"amount\": 0}))\n",
    "print(min_coins({\"coins\": [1,2,3,5,4], \"amount\": 98}))\n",
    "# coins[] = [25, 10, 5], sum = 30"
   ]
  },
  {
   "cell_type": "code",
   "execution_count": 225,
   "id": "40d7efd7",
   "metadata": {},
   "outputs": [
    {
     "ename": "IndentationError",
     "evalue": "expected an indented block (2685173343.py, line 9)",
     "output_type": "error",
     "traceback": [
      "\u001b[1;36m  Input \u001b[1;32mIn [225]\u001b[1;36m\u001b[0m\n\u001b[1;33m    \u001b[0m\n\u001b[1;37m    ^\u001b[0m\n\u001b[1;31mIndentationError\u001b[0m\u001b[1;31m:\u001b[0m expected an indented block\n"
     ]
    }
   ],
   "source": [
    "def roman_numeral(n):\n",
    "    dict1 ={'I':1,'V':5,'X':10,'L':50,'C' : 100,'D' : 500,'M' : 1000}\n",
    "    if n < 4:\n",
    "        s= dict1.keys()*n\n",
    "    elif n < 5:\n",
    "        s = \n",
    "    \n",
    "    \n",
    "    \n",
    "    "
   ]
  },
  {
   "cell_type": "code",
   "execution_count": 228,
   "id": "fbe30762",
   "metadata": {},
   "outputs": [
    {
     "data": {
      "text/plain": [
       "'DCCCXCIX'"
      ]
     },
     "execution_count": 228,
     "metadata": {},
     "output_type": "execute_result"
    }
   ],
   "source": [
    "def int_to_roman(num):\n",
    "    \"\"\"Converts an integer (1-3999) to its Roman numeral equivalent.\"\"\"\n",
    "\n",
    "    if not 1 <= num <= 3999:\n",
    "        raise ValueError(\"Input must be an integer between 1 and 3999.\")\n",
    "\n",
    "    roman_map = { 1: 'I', 4: 'IV', 5: 'V', 9: 'IX', 10: 'X', 40: 'XL', 50: 'L', 90: 'XC', 100: 'C', 400: 'XD', 500: 'D', 900: 'CM', 1000: 'M'}\n",
    "    integers = list(roman_map)\n",
    "    symbols = list(roman_map.values())\n",
    "\n",
    "    i = 12\n",
    "    result = \"\"\n",
    "\n",
    "    while num != 0:\n",
    "        if integers[i] <= num:\n",
    "            result += symbols[i]\n",
    "            num -= integers[i]\n",
    "        else:\n",
    "            i -= 1\n",
    "\n",
    "    return result\n",
    "int_to_roman(899)"
   ]
  },
  {
   "cell_type": "code",
   "execution_count": 230,
   "id": "eece13c8",
   "metadata": {},
   "outputs": [
    {
     "name": "stdout",
     "output_type": "stream",
     "text": [
      "734\n",
      "2842\n"
     ]
    }
   ],
   "source": [
    "def calculate_sum(N):\n",
    "    \"\"\" \n",
    "    :type N: int\n",
    "    :rtype: int\n",
    "    \"\"\"\n",
    "    x=0\n",
    "    for i in range(N+1):\n",
    "        if i%3==0 or i%7==0 :\n",
    "            continue\n",
    "        else:\n",
    "            x=x+i\n",
    "    return x\n",
    "print(calculate_sum(50))\n",
    "print(calculate_sum(100))"
   ]
  },
  {
   "cell_type": "code",
   "execution_count": 233,
   "id": "981011ba",
   "metadata": {},
   "outputs": [
    {
     "name": "stdout",
     "output_type": "stream",
     "text": [
      "ehT kciuq nworb xof spmuj revo eht yzal god\n",
      "gnimmargorP si nuf dna !gnignellahc\n"
     ]
    }
   ],
   "source": [
    "def reverse_letters(input_string):\n",
    "    \"\"\" \n",
    "    :type input_string: str\n",
    "    :rtype: str\n",
    "    \"\"\"\n",
    "    input_list =input_string.split()\n",
    "    input_list=list(map(lambda x : x[::-1],input_list))\n",
    "    return \" \".join(input_list)\n",
    "\n",
    "print(reverse_letters(\"The quick brown fox jumps over the lazy dog\"))\n",
    "print(reverse_letters(\"Programming is fun and challenging!\"))"
   ]
  },
  {
   "cell_type": "code",
   "execution_count": 246,
   "id": "a1302fc5",
   "metadata": {},
   "outputs": [
    {
     "name": "stdout",
     "output_type": "stream",
     "text": [
      "[-20, -5, -1, 0, 3, 54, 99]\n",
      "[-1, 0, 2, 3, 4, 5, 7, 8]\n",
      "3.5\n",
      "[-15, -9, -8, -7, -6, -5, -4, -3, -2, -1]\n",
      "-5.5\n"
     ]
    }
   ],
   "source": [
    "def find_median(lst):\n",
    "    \"\"\" \n",
    "    :type lst: List[int]\n",
    "    :rtype: float\n",
    "    \"\"\"\n",
    "    lst = sorted(lst)\n",
    "    print(lst)\n",
    "    if len(lst)%2 == 0 :\n",
    "        return (lst[int(len(lst)/2)] + lst[int((len(lst)/2)-1)])/2\n",
    "    else:\n",
    "        return lst[int((len(lst)-1)/2)]\n",
    "    \n",
    "find_median([0, -5, 99, 3, -1, 54,-20])\n",
    "print(find_median([7, 3, 8, -1, 4, 0, 5, 2]))\n",
    "print(find_median([-15, -7, -3, -9, -1, -8, -2, -5, -4, -6]))"
   ]
  },
  {
   "cell_type": "code",
   "execution_count": 253,
   "id": "e2b53f64",
   "metadata": {},
   "outputs": [
    {
     "name": "stdout",
     "output_type": "stream",
     "text": [
      "[-2, 0, 2]\n",
      "[]\n"
     ]
    }
   ],
   "source": [
    "def find_intersection(input):\n",
    "    \"\"\" \n",
    "    :type input: Dict[str, List[int]]\n",
    "    :rtype: List[int]\n",
    "    \"\"\"\n",
    "\n",
    "    arr1 = input[\"arr1\"]\n",
    "    arr2 = input[\"arr2\"]\n",
    "    l=[]\n",
    "    for i in arr1:\n",
    "        if i in arr2 and i not in l:\n",
    "            l.append(i)\n",
    "    return l\n",
    "\n",
    "find_intersection({\"arr1\": [1, 2, 2, 3, 3,4], \"arr2\": [3, 3, 4, 4, 5, 6]})\n",
    "print(find_intersection({\"arr1\": [-1, -2, 0, 1, 2], \"arr2\": [2, -2, -3, 0]}))\n",
    "print(find_intersection({\"arr1\": [], \"arr2\": [1, 2, 3]}))"
   ]
  },
  {
   "cell_type": "code",
   "execution_count": 260,
   "id": "876868e9",
   "metadata": {},
   "outputs": [
    {
     "name": "stdout",
     "output_type": "stream",
     "text": [
      "-1 [1, 0, 0, 2, 2]\n",
      "0 [1, 0, 2, 2]\n",
      "1 [0, 2, 2]\n",
      "2 [0, 2]\n",
      "[-1, 0, 1, 2]\n"
     ]
    }
   ],
   "source": [
    "def common_elements(input):\n",
    "    \"\"\"\n",
    "    :type input: Dict[str, List[int]]\n",
    "    :rtype: List[int]\n",
    "    \"\"\"\n",
    "\n",
    "    list1 = input[\"list1\"]\n",
    "    list2 = input[\"list2\"]\n",
    "    \n",
    "    l=[]\n",
    "    for i in list1:\n",
    "        if i in list2:\n",
    "            l.append(i)\n",
    "            list2.remove(i)\n",
    "            print(i,list2)\n",
    "    return l\n",
    "\n",
    "# print(common_elements({\"list1\": [1, 2, 2, 3, 4], \"list2\": [2, 2, 3, 3, 4, 4]}))\n",
    "print(common_elements({\"list1\": [-1, -1, 0, 1, 1, 2], \"list2\": [1, -1, 0, 0, 2, 2]}))\n",
    "# print(common_elements({\"list1\": [1, 2, 3], \"list2\": []}))\n"
   ]
  },
  {
   "cell_type": "code",
   "execution_count": 278,
   "id": "79c5d0f0",
   "metadata": {},
   "outputs": [
    {
     "name": "stdout",
     "output_type": "stream",
     "text": [
      "Counter({'Hello': 3, 'world!': 1, 'there.': 1, 'world?': 1, 'Is': 1, 'anybody': 1, 'there?': 1})\n",
      "Counter({'is': 3, 'Python': 2, '3.8': 1, 'great': 1, 'dynamic': 1, 'python': 1, 'versatile': 1})\n",
      "Counter({'test': 2, \"Let's\": 1, 'special-characters!': 1, 'Special-characters': 1, 'is': 1, 'necessary.': 1, \"Necessity's\": 1, 'part': 1, 'of': 1, 'the': 1, 'test.': 1})\n"
     ]
    }
   ],
   "source": [
    "from collections import Counter\n",
    "def word_counter(sentences):\n",
    "    sentences = ' '.join(sentences)\n",
    "    word_char = Counter(sentences.split())\n",
    "    return word_char\n",
    "print(word_counter([\"Hello world!\", \"Hello there.\", \"Hello world?\", \"Is anybody there?\"]))\n",
    "print(word_counter([\"Python 3.8 is great\", \"Python is dynamic\", \"python is versatile\"]))\n",
    "print(word_counter( [\"Let's test special-characters!\", \"Special-characters test is necessary.\", \"Necessity's part of the test.\"]))\n"
   ]
  },
  {
   "cell_type": "code",
   "execution_count": null,
   "id": "7a29c45f",
   "metadata": {},
   "outputs": [],
   "source": [
    "def sort_string(string):\n",
    "    \"\"\"\n",
    "    :type string: str\n",
    "    :rtype: str\n",
    "    \"\"\"\n",
    "    return \"\".join(sorted(string))\n"
   ]
  },
  {
   "cell_type": "code",
   "execution_count": 334,
   "id": "0c91a1a4",
   "metadata": {},
   "outputs": [
    {
     "name": "stdout",
     "output_type": "stream",
     "text": [
      "[5, 2, 1, 5, 3, 3, 2, 6, 5, 6, 4, 6, 5, 6, 1, 3, 4, 5, 2, 6, 5, 3, 3, 3, 5, 1, 4, 5, 2, 2, 4, 5, 5, 1, 6, 2, 4, 6, 3, 5, 3, 4, 2, 1, 3, 1, 3, 6, 6, 4, 3, 6, 6, 6, 1, 6, 4, 4, 1, 1, 3, 6, 5, 3, 4, 1, 6, 2, 2, 5, 2, 6, 1, 2, 6, 1, 2, 3, 1, 3, 3, 1, 4, 1, 2, 2, 1, 6, 2, 5, 6, 6, 4, 6, 3, 1, 2, 3, 6, 2, 2, 5, 2, 2, 6, 4, 4, 6, 5, 4, 4, 5, 2, 4, 2, 6, 5, 1, 6, 3, 4, 2, 1, 1, 6, 4, 1, 3, 3, 3, 4, 2, 4, 4, 5, 1, 2, 4, 4, 6, 4, 1, 2, 5, 2, 6, 6, 4, 6, 1, 4, 2, 5, 5, 2, 4, 1, 2, 5, 2, 4, 3, 3, 4, 6, 2, 2, 6, 1, 3, 4, 3, 6, 3, 2, 2, 1, 2, 4, 1, 5, 1, 1, 6, 5, 5, 5, 1, 2, 6, 4, 4, 5, 5, 1, 1, 2, 1, 5, 5, 6, 2, 3, 4, 5, 3, 2, 4, 2, 3, 6, 6, 4, 3, 6, 3, 2, 3, 1, 5, 6, 5, 4, 2, 1, 2, 2, 2, 5, 3, 5, 1, 3, 2, 2, 2, 6, 6, 6, 2, 3, 3, 1, 5, 4, 3, 6, 4, 4, 1, 2, 3, 2, 1, 6, 4, 2, 3, 1, 6, 1, 6, 2, 2, 6, 6, 6, 4, 6, 6, 4, 6, 1, 6, 2, 5, 4, 4, 1, 2, 1, 2, 5, 2, 5, 4, 4, 5, 6, 4, 3, 3, 4, 6, 2, 6, 3, 5, 4, 3, 3, 4, 5, 1, 6, 2, 6, 2, 3, 6, 1, 5, 6, 3, 1, 5, 2, 1, 2, 6, 3, 6, 4, 6, 6, 1, 6, 4, 1, 2, 4, 5, 6, 2, 3, 2, 2, 5, 5, 6, 3, 6, 5, 6, 1, 4, 2, 4, 1, 5, 6, 5, 4, 1, 5, 6, 4, 5, 2, 5, 2, 1, 2, 5, 2, 2, 1, 3, 4, 1, 5, 5, 3, 5, 5, 6, 3, 5, 6, 1, 3, 2, 1, 2, 6, 3, 1, 1, 1, 3, 3, 5, 1, 5, 5, 6, 4, 6, 4, 6, 4, 2, 3, 5, 4, 4, 2, 3, 2, 6, 3, 2, 4, 6, 5, 6, 2, 2, 5, 3, 1, 4, 5, 1, 1, 5, 4, 6, 4, 3, 4, 5, 5, 1, 2, 6, 5, 2, 1, 6, 4, 1, 4, 1, 4, 1, 2, 4, 5, 1, 3, 6, 1, 5, 5, 1, 1, 3, 3, 4, 1, 5, 3, 5, 6, 3, 1, 1, 1, 4, 1, 5, 1, 2, 5, 5, 4, 1, 2, 6, 1, 5, 4, 3, 5, 5, 4, 5, 6, 2, 5, 5, 4, 2, 2, 1, 4, 1, 5, 4, 2, 4, 5, 1, 5, 2, 4, 1, 3, 1, 3, 1, 4, 1, 2, 2, 3, 3, 3, 4, 4, 3, 4, 2, 1, 2, 2, 2, 4, 3, 5, 5, 3, 1, 5, 4, 1, 2, 3, 6, 4, 4, 5, 1, 4, 4, 6, 6, 2, 1, 2, 1, 1, 3, 6, 1, 4, 4, 1, 4, 2, 6, 2, 6, 3, 6, 4, 3, 5, 4, 1, 2, 1, 1, 5, 4, 2, 2, 4, 5, 5, 3, 1, 2, 3, 5, 3, 5, 4, 2, 2, 5, 1, 6, 5, 2, 6, 3, 3, 5, 5, 6, 1, 3, 2, 5, 3, 5, 2, 6, 6, 1, 1, 3, 3, 2, 2, 4, 5, 4, 6, 5, 5, 3, 4, 4, 2, 6, 2, 6, 3, 5, 1, 5, 1, 5, 1, 6, 2, 6, 2, 5, 3, 5, 2, 2, 5, 3, 2, 1, 1, 1, 4, 4, 5, 5, 4, 4, 2, 4, 4, 2, 2, 3, 2, 2, 6, 6, 5, 6, 6, 4, 4, 5, 2, 3, 3, 4, 3, 4, 6, 6, 1, 2, 5, 6, 1, 1, 5, 1, 1, 4, 6, 2, 3, 3, 5, 2, 2, 6, 1, 5, 3, 1, 4, 2, 3, 5, 1, 1, 2, 1, 1, 4, 5, 2, 4, 2, 3, 3, 6, 4, 5, 3, 2, 5, 6, 4, 4, 1, 3, 3, 3, 1, 6, 5, 6, 2, 4, 3, 5, 5, 4, 5, 3, 3, 3, 3, 5, 1, 5, 1, 1, 5, 1, 1, 2, 6, 4, 2, 3, 6, 1, 6, 1, 1, 3, 2, 5, 1, 2, 2, 6, 3, 5, 4, 2, 4, 3, 6, 3, 4, 6, 4, 6, 5, 2, 6, 1, 2, 4, 5, 6, 5, 3, 2, 6, 6, 5, 4, 3, 2, 4, 4, 1, 1, 3, 5, 1, 5, 4, 6, 4, 1, 2, 4, 6, 5, 3, 2, 5, 3, 4, 4, 6, 3, 4, 5, 6, 4, 5, 4, 5, 5, 5, 5, 6, 1, 4, 1, 5, 4, 4, 4, 1, 4, 2, 5, 6, 4, 5, 6, 6, 6, 1, 6, 5, 2, 5, 5, 3, 4, 6, 1, 4, 1, 4, 1, 4, 3, 3, 6, 4, 2, 2, 4, 6, 2, 4, 2, 4, 6, 4, 6, 4, 4, 4, 1, 5, 2, 1, 3, 3, 4, 6, 6, 4, 3, 1, 5, 5, 3, 5, 4, 1, 4, 1, 4, 4, 3, 4, 6, 2, 4, 5, 1, 5, 6, 5, 5, 2, 3, 6, 1, 6, 5, 3, 1, 4, 5, 6, 2, 6, 6, 5, 1, 5, 1, 5, 4, 4, 6, 3, 6, 1, 6, 3, 2, 1, 2, 4, 5, 5, 1, 6, 3, 1, 4, 1, 4, 1, 5, 1, 3, 2, 4, 2, 4, 3, 3, 1, 5, 2, 2, 1, 3, 3, 2, 1, 5, 3, 1, 3, 6, 5, 4, 3, 4, 1, 6, 5, 5, 6, 6, 6, 4, 6, 1, 5, 1]\n"
     ]
    }
   ],
   "source": [
    "import random\n",
    "# random.seed(42)\n",
    "def roll_die(n):\n",
    "    \"\"\" \n",
    "    :rtype: int \n",
    "    \"\"\"\n",
    "    li = [1,2,3,4,5,6]\n",
    "    \n",
    "    output=[]\n",
    "    for i in range(n):\n",
    "        rand_roll = random.random()*6 \n",
    "        for j in range(len(li)):\n",
    "            \n",
    "            if rand_roll<= li[j]:\n",
    "#                 print(rand_roll,'--------',j,'____',li[j])\n",
    "                output.append(li[j])\n",
    "                break\n",
    "    return output\n",
    "print(roll_die(1000))"
   ]
  },
  {
   "cell_type": "code",
   "execution_count": 304,
   "id": "d7178dbb",
   "metadata": {},
   "outputs": [
    {
     "name": "stdout",
     "output_type": "stream",
     "text": [
      "Counter({4: 182, 2: 172, 5: 167, 6: 162, 1: 161, 3: 156})\n"
     ]
    }
   ],
   "source": [
    "import random\n",
    "\n",
    "def roll_die(n):\n",
    "    \"\"\"Simulates rolling a fair six-sided die n times.\n",
    "\n",
    "    Args:\n",
    "      n: The number of times to roll the die.\n",
    "\n",
    "    Returns:\n",
    "      A list of integers representing the results of the rolls.  Uses a fixed seed for reproducibility.\n",
    "    \"\"\"  # Setting the seed for reproducibility\n",
    "    results = []\n",
    "    for _ in range(n):\n",
    "        random_number = random.random()  # Generates a random float between 0 and 1\n",
    "        roll = int(random_number * 6) + 1 # Scale to 1-6 and convert to integer\n",
    "        results.append(roll)\n",
    "    return Counter(results)\n",
    "\n",
    "print(roll_die(1000))"
   ]
  },
  {
   "cell_type": "code",
   "execution_count": null,
   "id": "c2b2fe63",
   "metadata": {},
   "outputs": [],
   "source": []
  },
  {
   "cell_type": "code",
   "execution_count": null,
   "id": "6df42238",
   "metadata": {},
   "outputs": [],
   "source": []
  }
 ],
 "metadata": {
  "kernelspec": {
   "display_name": "Python 3 (ipykernel)",
   "language": "python",
   "name": "python3"
  },
  "language_info": {
   "codemirror_mode": {
    "name": "ipython",
    "version": 3
   },
   "file_extension": ".py",
   "mimetype": "text/x-python",
   "name": "python",
   "nbconvert_exporter": "python",
   "pygments_lexer": "ipython3",
   "version": "3.9.12"
  }
 },
 "nbformat": 4,
 "nbformat_minor": 5
}
